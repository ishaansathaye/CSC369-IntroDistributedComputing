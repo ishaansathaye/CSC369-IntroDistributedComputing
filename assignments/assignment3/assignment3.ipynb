{
 "cells": [
  {
   "cell_type": "markdown",
   "metadata": {},
   "source": [
    "# Assignment 3 - Ishaan Sathaye"
   ]
  },
  {
   "cell_type": "markdown",
   "metadata": {},
   "source": [
    "### 1. \n",
    "\n",
    "**Consider two files. One file has information about students (ID, name, address, phone number, courses taken):**\n",
    "\n",
    "*1, John, 123 Main, 233 223 5566, (CSC365 CSC369 CSC469) is an example.*\n",
    "\n",
    "**Consider a second files that has information about courses and their difficulty:**\n",
    "\n",
    "*(CSC365, 1)*\n",
    "\n",
    "*(CSC369, 1)*\n",
    "\n",
    "*(CSC469, 2) is an example.*\n",
    "\n",
    "**Your goal is to print the names and addresses of students that have taken all the top N most difficult classes.**\n",
    "\n",
    "#### Solution:\n",
    "- Job 1: Find the top N most difficult classes.\n",
    "    - Mapper\n",
    "        - (?, \"course_id, difficulty\") -> (null, Course)\n",
    "        - TreeSet of Course class (to keep track of the top N most difficult classes)\n",
    "            - if TreeSet.size() > N, remove the last\n",
    "        - Course class consists of course_id and difficulty\n",
    "            - compareTo: compareTo() on difficulty if not equal, else comapreTo() on course_id\n",
    "    - Reducer\n",
    "        - (null, Course) -> (null, \"course_id, ...\")  (output top N courses)\n",
    "        - Keep track of the top N most difficult classes using a TreeSet of Course class.\n",
    "\n",
    "- Job 2: Join files\n",
    "    - topN Mapper\n",
    "        - (?, \"course_id ...\") -> ((null, 1), (\"course_id, ...\", \"topN\"))\n",
    "        - 1 so that topN courses appears first in the reducer\n",
    "    - student Mapper\n",
    "        - (?, \"ID, name, address, phone number, courses taken\") -> ((null, 2), (\"ID, name, address, phone number, courses taken\", \"student\"))\n",
    "    - Reducer\n",
    "        - ((null, 1), (\"course_id, ...\", \"topN\"))\n",
    "        - ((null, 2), (\"ID, name, address, phone number, courses taken\", \"student\")) ->\n",
    "        - (\"ID, name, address\", null)\n",
    "        - Parsing to compare the courses taken (rest of values) with the top N courses"
   ]
  },
  {
   "cell_type": "markdown",
   "metadata": {},
   "source": [
    "### 2.\n",
    "\n",
    "**Consider an input file that has information about students (ID, name, address, phone number, (course taken, grade)):**\n",
    "\n",
    "*1, John, 123 Main, 233 223 5566, ((CSC365 A) (CSC369 A) (CSC469 B)) is an example.*\n",
    "\n",
    "**The problem is to print the N students with the highest GPA. You can assume that you get 4 points for A, 3 points for a B, 2 points for a C, and 1 point for a D, and 0 points for an F. The average GPA will be a real number between 0 and 4.**\n",
    "\n",
    "#### Solution: **Can be 1 job by doing parsing in Mapper and top N in Mapper and Reducer.**\n",
    "- Job 1: Calculate GPA for each student.\n",
    "    - Mapper\n",
    "        - (?, \"student_id, name, address, phone, ((course, grade))\") -> (student_id, GPA_Record)\n",
    "        - GPA_Record class consists of name, address, and GPA.\n",
    "        - For sorting, it first compares the gpa, then name, and finally the id.\n",
    "        - Convert the grades to points and calculate the GPA.\n",
    "    - Reducer\n",
    "        - (student_id, GPA_Record) -> (student_id, name, address, GPA)\n",
    "        - Pass through the student_id and GPA to aggregate the results.\n",
    "- Job 2: Find the top N students with the highest GPA.\n",
    "    - Mapper\n",
    "        - (?, \"student_id, name, address, GPA\") -> (null, \"student_id, name, address, GPA\")\n",
    "        - TreeSet to keep track of the top N students, sorted by GPA in descending order.\n",
    "        - Send to a singe reducer.\n",
    "    - Reducer\n",
    "        - (null, \"student_id, name, address, GPA\") -> (null, \"student_id, name, address, GPA\")\n",
    "        - Output the top N students using the TreeSet of GPA_Record class"
   ]
  },
  {
   "cell_type": "markdown",
   "metadata": {},
   "source": [
    "### 3.\n",
    "\n",
    "**Consider the following input file.**\n",
    "\n",
    "*Enrolled (student id, course name). For example: (1,CSC354) means that John is enrolled in CSC354.*\n",
    "\n",
    "**The problem is to print the top N most popular classes (i.e., classes with the highest enrollment).**\n",
    "\n",
    "#### Solution:\n",
    "- Job 1: Count the number of students enrolled in each class.\n",
    "    - Mapper\n",
    "        - (?, \"student_id, course_name\") -> (course_name, 1)\n",
    "    - Reducer\n",
    "        - (course_name, count) -> (course_name, count)\n",
    "        - Aggregate the counts for each course.\n",
    "- Job 2: Find the top N most popular classes.\n",
    "    - Mapper\n",
    "        - (? , \"course_name, count\") -> (null, \"course_name, count\")\n",
    "        - Use a TreeSet of Course class to keep track of the top N classes.\n",
    "    - Reducer\n",
    "        - (null, \"course_name, count\") -> (null, \"course_name, count\")\n",
    "        - Output the top N classes using a TreeSet of Course class sorted by count in descending order.\n"
   ]
  }
 ],
 "metadata": {
  "language_info": {
   "name": "python"
  }
 },
 "nbformat": 4,
 "nbformat_minor": 2
}
