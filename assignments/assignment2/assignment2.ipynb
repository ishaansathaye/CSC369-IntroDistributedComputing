{
 "cells": [
  {
   "cell_type": "markdown",
   "metadata": {},
   "source": [
    "# Assignment 2 - Ishaan Sathaye"
   ]
  },
  {
   "cell_type": "markdown",
   "metadata": {},
   "source": [
    "Consider an input file with the following example input:\n",
    "\n",
    "John Back, 23, B, CSC366\n",
    "\n",
    "Bob Wilson, 11, B, CS201\n",
    "\n",
    "John Back, 23, A, CSC369\n",
    "\n",
    "In general, the input file will contain the student name, the student ID number, grade, and course. You need to write a Map/Reduce program that prints the student name, student id, and the list of classes for that student. The output should be sorted by name and then sorted by grade for each name. Here is an example output. \n",
    "\n",
    "Bob Wilson, 11, (B, CS201)\n",
    "\n",
    "John Back, 23, (A, CSC369), (B, CSC366) \n",
    "// sorted by name and then by grade for each name"
   ]
  },
  {
   "cell_type": "markdown",
   "metadata": {},
   "source": [
    "a. What is the natural and the composite key?\n",
    "- The natural key is the student name and the composite key is the student name, student id, and a pair of grade and course."
   ]
  },
  {
   "cell_type": "markdown",
   "metadata": {
    "vscode": {
     "languageId": "plaintext"
    }
   },
   "source": [
    "b. Show the composite key class (must implement WritableComparable and have compareTo method)."
   ]
  },
  {
   "cell_type": "markdown",
   "metadata": {},
   "source": [
    "```java\n",
    "\n",
    "public class CompositeKey implements Writeable, WritableComparable<CompositeKey> {\n",
    "    \n",
    "    private final Text name = new Text();\n",
    "    private final IntWritable id = new IntWritable();\n",
    "    private final Text grade = new Text();\n",
    "    private final Text course = new Text();\n",
    "\n",
    "    public CompositeKey() {}\n",
    "\n",
    "    public CompositeKey(String name, int id, String grade, String course) {\n",
    "        this.name.set(name);\n",
    "        this.id.set(id);\n",
    "        this.grade.set(grade);\n",
    "        this.course.set(course);\n",
    "    }\n",
    "\n",
    "    public Text getName() {\n",
    "        return name;\n",
    "    }\n",
    "\n",
    "    public IntWritable getId() {\n",
    "        return id;\n",
    "    }\n",
    "\n",
    "    public Text getGrade() {\n",
    "        return grade;\n",
    "    }\n",
    "\n",
    "    public Text getCourse() {\n",
    "        return course;\n",
    "    }\n",
    "\n",
    "    public Text getCourseGradePair() {\n",
    "        return new Text(\"(\" + grade + \", \" + course + \")\");\n",
    "    }\n",
    "\n",
    "    @Override\n",
    "    public void write(DataOutput out) throws IOException {\n",
    "        name.write(out);\n",
    "        id.write(out);\n",
    "        grade.write(out);\n",
    "        course.write(out);\n",
    "    }\n",
    "\n",
    "    @Override\n",
    "    public void readFields(DataInput in) throws IOException {\n",
    "        name.readFields(in);\n",
    "        id.readFields(in);\n",
    "        grade.readFields(in);\n",
    "        course.readFields(in);\n",
    "    }\n",
    "\n",
    "    @Override\n",
    "    public int compareTo(CompositeKey other) {\n",
    "        int cmp = name.compareTo(other.name);\n",
    "        if (cmp == 0) {\n",
    "            // if names are same then compare by grade\n",
    "            return grade.compareTo(other.grade);\n",
    "        }\n",
    "        // if names are different then compare by name\n",
    "        return cmp;\n",
    "    }\n",
    "}\n",
    "```"
   ]
  },
  {
   "cell_type": "markdown",
   "metadata": {
    "vscode": {
     "languageId": "plaintext"
    }
   },
   "source": [
    "c. Show the mapper class."
   ]
  },
  {
   "cell_type": "markdown",
   "metadata": {},
   "source": [
    "```java\n",
    "\n",
    "public class StudentMapper extends Mapper<LongWritable, Text, CompositeKey, Text> {\n",
    "\n",
    "    @Override\n",
    "    public void map(LongWritable key, Text value, Context context) throws IOException, InterruptedException {\n",
    "        String line = value.toString();\n",
    "        String[] tokens = line.split(\",\");\n",
    "        if (tokens.length != 4) {\n",
    "            return;\n",
    "        }\n",
    "        String name = tokens[0].trim();\n",
    "        int id = Integer.parseInt(tokens[1].trim());\n",
    "        String grade = tokens[2].trim();\n",
    "        String course = tokens[3].trim();\n",
    "        CompositeKey compositeKey = new CompositeKey(name, id, grade, course);\n",
    "\n",
    "        context.write(compositeKey, new Text(compositeKey.getCourseGradePair()));\n",
    "}\n",
    "```"
   ]
  },
  {
   "cell_type": "markdown",
   "metadata": {},
   "source": [
    "d. Show the partitioner class."
   ]
  },
  {
   "cell_type": "markdown",
   "metadata": {},
   "source": [
    "```java\n",
    "public class StudentPartitioner extends Partitioner<CompositeKey, Text> {\n",
    "\n",
    "    @Override\n",
    "    public int getPartition(CompositeKey key, Text value, int numPartitions) {\n",
    "        return Math.abs(key.getName().hashCode() % numPartitions);\n",
    "    }\n",
    "}\n",
    "```"
   ]
  },
  {
   "cell_type": "markdown",
   "metadata": {},
   "source": [
    "e. Shows the group comparator class."
   ]
  },
  {
   "cell_type": "markdown",
   "metadata": {},
   "source": [
    "```java\n",
    "public class GroupingComparator extends WritableComparator {\n",
    "    protected GroupingComparator() {\n",
    "        super(CompositeKey.class, true);\n",
    "    }\n",
    "\n",
    "    @Override\n",
    "    public int compare(WritableComparable w1, WritableComparable w2) {\n",
    "        CompositeKey key1 = (CompositeKey) w1;\n",
    "        CompositeKey key2 = (CompositeKey) w2;\n",
    "        int nameComparison = key1.getName().compareTo(key2.getName());\n",
    "        if (nameComparison != 0) {\n",
    "            return nameComparison;\n",
    "        }\n",
    "        // if names are same then compare by id\n",
    "        return Integer.compare(key1.getId().get(), key2.getId().get());\n",
    "    }\n",
    "}\n",
    "```"
   ]
  },
  {
   "cell_type": "markdown",
   "metadata": {},
   "source": [
    "f. Show the reducer class."
   ]
  },
  {
   "cell_type": "markdown",
   "metadata": {},
   "source": [
    "```java\n",
    "public class StudentReducer extends Reducer<CompositeKey, Text, Text, Text> {\n",
    "\n",
    "    @Override\n",
    "    public void reduce(CompositeKey key, Iterable<Text> values, Context context) throws IOException, InterruptedException {\n",
    "        String finalKey = key.getName() + \", \" + key.getId() + \", \";\n",
    "        String res = \"\";\n",
    "        for (Text value : values) {\n",
    "            res += value.toString() + \", \";\n",
    "        }\n",
    "        // remove the last comma\n",
    "        res = res.substring(0, res.length() - 2);\n",
    "        context.write(finalKey, new Text(res));\n",
    "}\n",
    "```"
   ]
  }
 ],
 "metadata": {
  "language_info": {
   "name": "python"
  }
 },
 "nbformat": 4,
 "nbformat_minor": 2
}
