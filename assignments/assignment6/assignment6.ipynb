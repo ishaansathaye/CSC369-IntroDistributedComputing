{
 "cells": [
  {
   "cell_type": "markdown",
   "metadata": {},
   "source": [
    "# Assignment 6 - Ishaan Sathaye"
   ]
  },
  {
   "cell_type": "markdown",
   "metadata": {},
   "source": [
    "Solve the following problems using Spark/Scala. Do not create any map data structures. Try to avoid using traditional loops when possible.\n",
    "\n",
    "Consider three files. One file has information about students (ID, name, address, phone number):\n",
    "\n",
    "```\n",
    "1, John, 123 Main, 233 223 5566 // is an example\n",
    "```\n",
    "\n",
    "Consider a second file that has information about courses and their difficulty:\n",
    "\n",
    "```\n",
    "CSC365, 1\n",
    "CSC369, 1\n",
    "CSC469, 2\n",
    "// is an example\n",
    "```\n",
    "\n",
    "Consider a third file that contains the student ID, course, and grade. For example:\n",
    "\n",
    "```\n",
    "1, CSC365, A\n",
    "1, CSC369, A\n",
    "1, CSC469, B\n",
    "```\n",
    "\n",
    "It contains information about the student taking a class and earning a grade.\n",
    "\n",
    "1. Write a program that finds the names of the students that have taken at least one of the courses with the greatest difficulty. In our example, John has taken such a course.\n",
    "\n",
    "Solution:\n",
    "\n",
    "\n",
    "2. Write a program that prints the average course difficulty of the classes that are taken by each student. For example, the program will print **John, 1.33**. Make sure to print average course difficulty as 0 if the student doesn't take any classes (hint, use left outer or right outer join).\n",
    "\n",
    "3. Write a program that prints the top 5 most difficult classes.\n",
    "\n",
    "4. Write a program that prints the name of the students ordered by GPA in descending order (starting with the student with the highest GPA). The GPA of a student that has taken no courses should be 0 (use left outer or right outer join)."
   ]
  },
  {
   "cell_type": "markdown",
   "metadata": {},
   "source": []
  }
 ],
 "metadata": {
  "language_info": {
   "name": "python"
  }
 },
 "nbformat": 4,
 "nbformat_minor": 2
}
